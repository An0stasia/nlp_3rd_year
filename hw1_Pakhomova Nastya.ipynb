{
 "cells": [
  {
   "cell_type": "code",
   "execution_count": 118,
   "id": "ee296ce9",
   "metadata": {},
   "outputs": [
    {
     "name": "stdout",
     "output_type": "stream",
     "text": [
      "\u001b[33mWARNING: Ignoring invalid distribution ~atplotlib (/Library/Frameworks/Python.framework/Versions/3.11/lib/python3.11/site-packages)\u001b[0m\u001b[33m\n",
      "\u001b[0mRequirement already satisfied: sklearn in /Library/Frameworks/Python.framework/Versions/3.11/lib/python3.11/site-packages (0.0.post1)\n",
      "\u001b[33mWARNING: Ignoring invalid distribution ~atplotlib (/Library/Frameworks/Python.framework/Versions/3.11/lib/python3.11/site-packages)\u001b[0m\u001b[33m\n",
      "\u001b[0m\u001b[33mWARNING: Ignoring invalid distribution ~atplotlib (/Library/Frameworks/Python.framework/Versions/3.11/lib/python3.11/site-packages)\u001b[0m\u001b[33m\n",
      "\u001b[0m\u001b[33mWARNING: Ignoring invalid distribution ~atplotlib (/Library/Frameworks/Python.framework/Versions/3.11/lib/python3.11/site-packages)\u001b[0m\u001b[33m\n",
      "\u001b[0m\n",
      "\u001b[1m[\u001b[0m\u001b[34;49mnotice\u001b[0m\u001b[1;39;49m]\u001b[0m\u001b[39;49m A new release of pip available: \u001b[0m\u001b[31;49m22.3.1\u001b[0m\u001b[39;49m -> \u001b[0m\u001b[32;49m23.2.1\u001b[0m\n",
      "\u001b[1m[\u001b[0m\u001b[34;49mnotice\u001b[0m\u001b[1;39;49m]\u001b[0m\u001b[39;49m To update, run: \u001b[0m\u001b[32;49mpip3 install --upgrade pip\u001b[0m\n",
      "Note: you may need to restart the kernel to use updated packages.\n"
     ]
    }
   ],
   "source": [
    "%pip install sklearn"
   ]
  },
  {
   "cell_type": "markdown",
   "id": "0b54ccff",
   "metadata": {},
   "source": [
    "1. Скачиваем данные путем парсинга"
   ]
  },
  {
   "cell_type": "markdown",
   "id": "e18b473d",
   "metadata": {},
   "source": [
    "Я буду использовать отзывы с сайта Steam на игру Hitman: Absolution\n",
    "Сначала в фильтрах ставим язык: английский, отзывы: только положительные.\n",
    "Так как мы имеем дело не с несколькими страницами, а со скроллингом вниз, то используем блок selenium"
   ]
  },
  {
   "cell_type": "code",
   "execution_count": 1,
   "id": "6619b035",
   "metadata": {},
   "outputs": [
    {
     "name": "stdout",
     "output_type": "stream",
     "text": [
      "\u001b[33mWARNING: Ignoring invalid distribution ~atplotlib (/Library/Frameworks/Python.framework/Versions/3.11/lib/python3.11/site-packages)\u001b[0m\u001b[33m\n",
      "\u001b[0mCollecting selenium\n",
      "  Downloading selenium-4.12.0-py3-none-any.whl (9.4 MB)\n",
      "\u001b[2K     \u001b[90m━━━━━━━━━━━━━━━━━━━━━━━━━━━━━━━━━━━━━━━━\u001b[0m \u001b[32m9.4/9.4 MB\u001b[0m \u001b[31m6.8 MB/s\u001b[0m eta \u001b[36m0:00:00\u001b[0m00:01\u001b[0m00:01\u001b[0m\n",
      "\u001b[?25hRequirement already satisfied: urllib3[socks]<3,>=1.26 in /Library/Frameworks/Python.framework/Versions/3.11/lib/python3.11/site-packages (from selenium) (1.26.14)\n",
      "Collecting trio~=0.17\n",
      "  Downloading trio-0.22.2-py3-none-any.whl (400 kB)\n",
      "\u001b[2K     \u001b[90m━━━━━━━━━━━━━━━━━━━━━━━━━━━━━━━━━━━━━━━\u001b[0m \u001b[32m400.2/400.2 kB\u001b[0m \u001b[31m5.1 MB/s\u001b[0m eta \u001b[36m0:00:00\u001b[0ma \u001b[36m0:00:01\u001b[0m\n",
      "\u001b[?25hCollecting trio-websocket~=0.9\n",
      "  Downloading trio_websocket-0.10.4-py3-none-any.whl (17 kB)\n",
      "Requirement already satisfied: certifi>=2021.10.8 in /Library/Frameworks/Python.framework/Versions/3.11/lib/python3.11/site-packages (from selenium) (2022.12.7)\n",
      "Requirement already satisfied: attrs>=20.1.0 in /Library/Frameworks/Python.framework/Versions/3.11/lib/python3.11/site-packages (from trio~=0.17->selenium) (22.2.0)\n",
      "Collecting sortedcontainers\n",
      "  Downloading sortedcontainers-2.4.0-py2.py3-none-any.whl (29 kB)\n",
      "Requirement already satisfied: idna in /Library/Frameworks/Python.framework/Versions/3.11/lib/python3.11/site-packages (from trio~=0.17->selenium) (3.4)\n",
      "Collecting outcome\n",
      "  Downloading outcome-1.2.0-py2.py3-none-any.whl (9.7 kB)\n",
      "Requirement already satisfied: sniffio in /Library/Frameworks/Python.framework/Versions/3.11/lib/python3.11/site-packages (from trio~=0.17->selenium) (1.3.0)\n",
      "Collecting exceptiongroup\n",
      "  Downloading exceptiongroup-1.1.3-py3-none-any.whl (14 kB)\n",
      "Collecting wsproto>=0.14\n",
      "  Downloading wsproto-1.2.0-py3-none-any.whl (24 kB)\n",
      "Collecting PySocks!=1.5.7,<2.0,>=1.5.6\n",
      "  Downloading PySocks-1.7.1-py3-none-any.whl (16 kB)\n",
      "Collecting h11<1,>=0.9.0\n",
      "  Downloading h11-0.14.0-py3-none-any.whl (58 kB)\n",
      "\u001b[2K     \u001b[90m━━━━━━━━━━━━━━━━━━━━━━━━━━━━━━━━━━━━━━━━\u001b[0m \u001b[32m58.3/58.3 kB\u001b[0m \u001b[31m1.9 MB/s\u001b[0m eta \u001b[36m0:00:00\u001b[0m\n",
      "\u001b[?25h\u001b[33mWARNING: Ignoring invalid distribution ~atplotlib (/Library/Frameworks/Python.framework/Versions/3.11/lib/python3.11/site-packages)\u001b[0m\u001b[33m\n",
      "\u001b[0mInstalling collected packages: sortedcontainers, PySocks, outcome, h11, exceptiongroup, wsproto, trio, trio-websocket, selenium\n",
      "\u001b[33mWARNING: Ignoring invalid distribution ~atplotlib (/Library/Frameworks/Python.framework/Versions/3.11/lib/python3.11/site-packages)\u001b[0m\u001b[33m\n",
      "\u001b[0m\u001b[33mWARNING: Ignoring invalid distribution ~atplotlib (/Library/Frameworks/Python.framework/Versions/3.11/lib/python3.11/site-packages)\u001b[0m\u001b[33m\n",
      "\u001b[0m\u001b[33mWARNING: Ignoring invalid distribution ~atplotlib (/Library/Frameworks/Python.framework/Versions/3.11/lib/python3.11/site-packages)\u001b[0m\u001b[33m\n",
      "\u001b[0m\u001b[33mWARNING: Ignoring invalid distribution ~atplotlib (/Library/Frameworks/Python.framework/Versions/3.11/lib/python3.11/site-packages)\u001b[0m\u001b[33m\n",
      "\u001b[0m\u001b[33mWARNING: Ignoring invalid distribution ~atplotlib (/Library/Frameworks/Python.framework/Versions/3.11/lib/python3.11/site-packages)\u001b[0m\u001b[33m\n",
      "\u001b[0mSuccessfully installed PySocks-1.7.1 exceptiongroup-1.1.3 h11-0.14.0 outcome-1.2.0 selenium-4.12.0 sortedcontainers-2.4.0 trio-0.22.2 trio-websocket-0.10.4 wsproto-1.2.0\n",
      "\u001b[33mWARNING: Ignoring invalid distribution ~atplotlib (/Library/Frameworks/Python.framework/Versions/3.11/lib/python3.11/site-packages)\u001b[0m\u001b[33m\n",
      "\u001b[0m\u001b[33mWARNING: Ignoring invalid distribution ~atplotlib (/Library/Frameworks/Python.framework/Versions/3.11/lib/python3.11/site-packages)\u001b[0m\u001b[33m\n",
      "\u001b[0m\n",
      "\u001b[1m[\u001b[0m\u001b[34;49mnotice\u001b[0m\u001b[1;39;49m]\u001b[0m\u001b[39;49m A new release of pip available: \u001b[0m\u001b[31;49m22.3.1\u001b[0m\u001b[39;49m -> \u001b[0m\u001b[32;49m23.2.1\u001b[0m\n",
      "\u001b[1m[\u001b[0m\u001b[34;49mnotice\u001b[0m\u001b[1;39;49m]\u001b[0m\u001b[39;49m To update, run: \u001b[0m\u001b[32;49mpip3 install --upgrade pip\u001b[0m\n",
      "Note: you may need to restart the kernel to use updated packages.\n"
     ]
    }
   ],
   "source": [
    "%pip install selenium"
   ]
  },
  {
   "cell_type": "code",
   "execution_count": 3,
   "id": "1cdc4af5",
   "metadata": {},
   "outputs": [
    {
     "name": "stdout",
     "output_type": "stream",
     "text": [
      "\u001b[33mWARNING: Ignoring invalid distribution ~atplotlib (/Library/Frameworks/Python.framework/Versions/3.11/lib/python3.11/site-packages)\u001b[0m\u001b[33m\n",
      "\u001b[0mCollecting chromedriver-autoinstaller\n",
      "  Downloading chromedriver_autoinstaller-0.6.2-py3-none-any.whl (7.4 kB)\n",
      "\u001b[33mWARNING: Ignoring invalid distribution ~atplotlib (/Library/Frameworks/Python.framework/Versions/3.11/lib/python3.11/site-packages)\u001b[0m\u001b[33m\n",
      "\u001b[0mInstalling collected packages: chromedriver-autoinstaller\n",
      "Successfully installed chromedriver-autoinstaller-0.6.2\n",
      "\u001b[33mWARNING: Ignoring invalid distribution ~atplotlib (/Library/Frameworks/Python.framework/Versions/3.11/lib/python3.11/site-packages)\u001b[0m\u001b[33m\n",
      "\u001b[0m\u001b[33mWARNING: Ignoring invalid distribution ~atplotlib (/Library/Frameworks/Python.framework/Versions/3.11/lib/python3.11/site-packages)\u001b[0m\u001b[33m\n",
      "\u001b[0m\n",
      "\u001b[1m[\u001b[0m\u001b[34;49mnotice\u001b[0m\u001b[1;39;49m]\u001b[0m\u001b[39;49m A new release of pip available: \u001b[0m\u001b[31;49m22.3.1\u001b[0m\u001b[39;49m -> \u001b[0m\u001b[32;49m23.2.1\u001b[0m\n",
      "\u001b[1m[\u001b[0m\u001b[34;49mnotice\u001b[0m\u001b[1;39;49m]\u001b[0m\u001b[39;49m To update, run: \u001b[0m\u001b[32;49mpip3 install --upgrade pip\u001b[0m\n",
      "Note: you may need to restart the kernel to use updated packages.\n"
     ]
    }
   ],
   "source": [
    "%pip install chromedriver-autoinstaller"
   ]
  },
  {
   "cell_type": "code",
   "execution_count": 136,
   "id": "46c48e3d",
   "metadata": {},
   "outputs": [],
   "source": [
    "from sklearn.metrics import accuracy_score\n",
    "from nltk.util import ngrams"
   ]
  },
  {
   "cell_type": "code",
   "execution_count": 21,
   "id": "3e623492",
   "metadata": {},
   "outputs": [],
   "source": [
    "import urllib.request\n",
    "from urllib.request import urlopen\n",
    "import ssl\n",
    "import json\n",
    "ssl._create_default_https_context = ssl._create_unverified_context"
   ]
  },
  {
   "cell_type": "code",
   "execution_count": 22,
   "id": "6496d01c",
   "metadata": {},
   "outputs": [
    {
     "name": "stdout",
     "output_type": "stream",
     "text": [
      "CHROME >= 115.0.5763.0, using mac-arm64 as architecture identifier\n"
     ]
    },
    {
     "data": {
      "text/plain": [
       "'/Library/Frameworks/Python.framework/Versions/3.11/lib/python3.11/site-packages/chromedriver_autoinstaller/117/chromedriver'"
      ]
     },
     "execution_count": 22,
     "metadata": {},
     "output_type": "execute_result"
    }
   ],
   "source": [
    "import time\n",
    "import pandas as pd\n",
    "from time import sleep\n",
    "from bs4 import BeautifulSoup\n",
    "from selenium import webdriver\n",
    "import chromedriver_autoinstaller\n",
    "import sys\n",
    "sys.path.insert(0,'/usr/lib/chromium-browser/chromedriver')\n",
    "\n",
    "from selenium.webdriver.support.ui import WebDriverWait\n",
    "from selenium.webdriver.support import expected_conditions as EC\n",
    "from selenium.webdriver.common.by import By\n",
    "from selenium.webdriver.chrome.options import Options\n",
    "\n",
    "chrome_options = webdriver.ChromeOptions()\n",
    "chrome_options.add_argument('--headless') # ensure GUI is off\n",
    "chrome_options.add_argument('--no-sandbox')\n",
    "chrome_options.add_argument('--disable-dev-shm-usage')\n",
    "\n",
    "# set path to chromedriver as per your configuration\n",
    "chromedriver_autoinstaller.install()"
   ]
  },
  {
   "cell_type": "code",
   "execution_count": 123,
   "id": "590a0a68",
   "metadata": {},
   "outputs": [],
   "source": [
    "def get_reviews(url, num):\n",
    "\n",
    "    # set up the webdriver\n",
    "    driver = webdriver.Chrome(options=chrome_options)\n",
    "    driver.get(url)\n",
    "\n",
    "    last_position = driver.execute_script('return window.pageYOffset;')\n",
    "    reviews = []\n",
    "    review_ids = set()\n",
    "\n",
    "    while True:\n",
    "      cards = driver.find_elements(By.CLASS_NAME, 'apphub_Card')\n",
    "      if(len(cards) >= num):\n",
    "          break\n",
    "      last_position = driver.execute_script('return window.pageYOffset;')\n",
    "      driver.execute_script('window.scrollTo(0, document.body.scrollHeight);')\n",
    "      curr_position = driver.execute_script('return window.pageYOffset;')\n",
    "      if(last_position == curr_position):\n",
    "          continue\n",
    "\n",
    "    reviews = []\n",
    "    for card in cards[:num]:\n",
    "        date_posted = card.find_element(By.XPATH, './/div[@class=\"apphub_CardTextContent\"]/div').text\n",
    "        review_content = card.find_element(By.XPATH, './/div[@class=\"apphub_CardTextContent\"]').text.replace(date_posted, '').strip()\n",
    "        reviews.append(review_content)\n",
    "\n",
    "    driver.quit()\n",
    "\n",
    "    return reviews"
   ]
  },
  {
   "cell_type": "markdown",
   "id": "d0d28773",
   "metadata": {},
   "source": [
    "Покажу, что работает на 40 на каждый тип отзывов."
   ]
  },
  {
   "cell_type": "code",
   "execution_count": 105,
   "id": "a7a9aca8",
   "metadata": {},
   "outputs": [],
   "source": [
    "positive_reviews = get_reviews('https://steamcommunity.com/app/203140/positivereviews/?filterLanguage=english&p=1&browsefilter=toprated.html', 40)"
   ]
  },
  {
   "cell_type": "code",
   "execution_count": 106,
   "id": "64633934",
   "metadata": {},
   "outputs": [],
   "source": [
    "negative_reviews = get_reviews('https://steamcommunity.com/app/203140/negativereviews/?filterLanguage=english&p=1&browsefilter=toprated.html', 40)"
   ]
  },
  {
   "cell_type": "markdown",
   "id": "0464c2f9",
   "metadata": {},
   "source": [
    "Смотрим, что отзывы реально сохранились"
   ]
  },
  {
   "cell_type": "code",
   "execution_count": 107,
   "id": "54acea29",
   "metadata": {},
   "outputs": [
    {
     "data": {
      "text/plain": [
       "'Stealth is optional'"
      ]
     },
     "execution_count": 107,
     "metadata": {},
     "output_type": "execute_result"
    }
   ],
   "source": [
    "positive_reviews[10]"
   ]
  },
  {
   "cell_type": "code",
   "execution_count": 108,
   "id": "7caed579",
   "metadata": {},
   "outputs": [
    {
     "data": {
      "text/plain": [
       "'Contracts Servers are down ( i dont care if its Io-Interactive or square enix fault, lack of interest or whatever )\\nAbout 50 % of the game is useless now. Contracts Mode is still advertised as a Feature of the Game, so are the unachievable Achievements'"
      ]
     },
     "execution_count": 108,
     "metadata": {},
     "output_type": "execute_result"
    }
   ],
   "source": [
    "negative_reviews[3]"
   ]
  },
  {
   "cell_type": "markdown",
   "id": "6f6f0055",
   "metadata": {},
   "source": [
    "Делим данные на обучающие и тестовые."
   ]
  },
  {
   "cell_type": "code",
   "execution_count": 109,
   "id": "01681b24",
   "metadata": {},
   "outputs": [],
   "source": [
    "test = positive_reviews[0:10] + negative_reviews[0:10]\n",
    "positive_reviews = positive_reviews[-30:]\n",
    "negative_reviews = negative_reviews[-30:]"
   ]
  },
  {
   "cell_type": "markdown",
   "id": "b7091010",
   "metadata": {},
   "source": [
    "Переходим к токенизации, лемматизации."
   ]
  },
  {
   "cell_type": "code",
   "execution_count": 110,
   "id": "c2579216",
   "metadata": {},
   "outputs": [
    {
     "name": "stderr",
     "output_type": "stream",
     "text": [
      "[nltk_data] Downloading package punkt to\n",
      "[nltk_data]     /Users/nastyapakhomova/nltk_data...\n",
      "[nltk_data]   Package punkt is already up-to-date!\n",
      "[nltk_data] Downloading package averaged_perceptron_tagger to\n",
      "[nltk_data]     /Users/nastyapakhomova/nltk_data...\n",
      "[nltk_data]   Unzipping taggers/averaged_perceptron_tagger.zip.\n",
      "[nltk_data] Downloading package wordnet to\n",
      "[nltk_data]     /Users/nastyapakhomova/nltk_data...\n",
      "[nltk_data] Downloading package omw-1.4 to\n",
      "[nltk_data]     /Users/nastyapakhomova/nltk_data...\n"
     ]
    },
    {
     "data": {
      "text/plain": [
       "True"
      ]
     },
     "execution_count": 110,
     "metadata": {},
     "output_type": "execute_result"
    }
   ],
   "source": [
    "import nltk\n",
    "nltk.download('punkt')\n",
    "nltk.download('averaged_perceptron_tagger')\n",
    "nltk.download('wordnet')\n",
    "nltk.download('omw-1.4')"
   ]
  },
  {
   "cell_type": "markdown",
   "id": "9fac6e78",
   "metadata": {},
   "source": [
    "Пишем функцию, которая будет определять части речи, лемматизировать и токенизировать текст, а также выкидывать токены, в которых нет букв алфавита (например, смайлики, скобки и тд.)"
   ]
  },
  {
   "cell_type": "code",
   "execution_count": 111,
   "id": "e37d098f",
   "metadata": {},
   "outputs": [],
   "source": [
    "from nltk.stem import WordNetLemmatizer\n",
    "from nltk import word_tokenize, pos_tag\n",
    "import re\n",
    "\n",
    "lmtzr = WordNetLemmatizer()\n",
    "def lemmatize_text(text):\n",
    "    tokenized = [w for w in word_tokenize(text.lower()) if bool(re.search('[a-z]', w))]\n",
    "    return [lmtzr.lemmatize(i,j[0].lower())\n",
    "        if j[0].lower() in ['a', 'n', 'v']\n",
    "        else lmtzr.lemmatize(i)\n",
    "        for i,j in pos_tag(tokenized)]"
   ]
  },
  {
   "cell_type": "markdown",
   "id": "3240b527",
   "metadata": {},
   "source": [
    "Теперь, когда все слова приведены в порядок, нужно создать словари частнотности, в которых будут слова, которые наиболее часто встречаются в положительных или отрицательных отзывах."
   ]
  },
  {
   "cell_type": "code",
   "execution_count": 112,
   "id": "e749dff3",
   "metadata": {},
   "outputs": [],
   "source": [
    "from collections import Counter"
   ]
  },
  {
   "cell_type": "code",
   "execution_count": 113,
   "id": "eaaa204b",
   "metadata": {},
   "outputs": [],
   "source": [
    "def collect_freqlist(reviews):\n",
    "    freqlist = Counter()\n",
    "    for review in reviews:\n",
    "        for token in lemmatize_text(review): #параллельно применяем нашу функцию по лемматизации\n",
    "            freqlist[token] += 1\n",
    "    return freqlist"
   ]
  },
  {
   "cell_type": "code",
   "execution_count": 114,
   "id": "e7f0e021",
   "metadata": {},
   "outputs": [],
   "source": [
    "def prepare_freqlists(positive_reviews, negative_reviews):\n",
    "    positive_freqlist = collect_freqlist(positive_reviews)\n",
    "    negative_freqlist = collect_freqlist(negative_reviews)\n",
    "    positive_freqlist = set(k for k, v in positive_freqlist.items() if v > 2) #убираем слова, которые встречаются более двух раз\n",
    "    negative_freqlist = set(k for k, v in negative_freqlist.items() if v > 2)\n",
    "    positive_freqlist_unique = positive_freqlist - negative_freqlist #словарь с положителльными словами\n",
    "    negative_freqlist_unique = negative_freqlist - positive_freqlist #словарь с отрицательными словами\n",
    "    return positive_freqlist_unique, negative_freqlist_unique"
   ]
  },
  {
   "cell_type": "code",
   "execution_count": 115,
   "id": "0240a05c",
   "metadata": {},
   "outputs": [],
   "source": [
    "positive_freqlist_unique, negative_freqlist_unique = prepare_freqlists(positive_reviews, negative_reviews)"
   ]
  },
  {
   "cell_type": "markdown",
   "id": "07948ab5",
   "metadata": {},
   "source": [
    "После того, как мы создали словари, нужно сделать функцию, которая уже и будет на их основе проверять отзыв-положительный (обозначим за 1) он или отрицательный (обозначим за 0)"
   ]
  },
  {
   "cell_type": "code",
   "execution_count": 116,
   "id": "c88fa41d",
   "metadata": {},
   "outputs": [],
   "source": [
    "def simple_sentiment_analysis(positive_freqlist, negative_freqlist, test):\n",
    "    prediction = []\n",
    "    for review in test:\n",
    "        positive_count = 0\n",
    "        negative_count = 0\n",
    "        for token in lemmatize_text(review):\n",
    "            if token in positive_freqlist:\n",
    "                positive_count += 1\n",
    "            elif token in negative_freqlist:\n",
    "                negative_count += 1\n",
    "        if positive_count >= negative_count:\n",
    "            prediction.append(1)\n",
    "        else:\n",
    "            prediction.append(0)\n",
    "    return prediction"
   ]
  },
  {
   "cell_type": "code",
   "execution_count": 117,
   "id": "922f15bb",
   "metadata": {},
   "outputs": [],
   "source": [
    "correct_answers = [1, 1, 1, 1, 1, 1, 1, 1, 1, 1, 0, 0, 0, 0, 0, 0, 0, 0, 0, 0]"
   ]
  },
  {
   "cell_type": "code",
   "execution_count": 119,
   "id": "df502762",
   "metadata": {},
   "outputs": [],
   "source": [
    "prediction = simple_sentiment_analysis(positive_freqlist_unique, negative_freqlist_unique, test)"
   ]
  },
  {
   "cell_type": "markdown",
   "id": "274e123f",
   "metadata": {},
   "source": [
    "Предсказываем ответы и считаем точность всего"
   ]
  },
  {
   "cell_type": "code",
   "execution_count": 121,
   "id": "71401825",
   "metadata": {},
   "outputs": [
    {
     "name": "stdout",
     "output_type": "stream",
     "text": [
      "Accuracy: 0.5000\n"
     ]
    }
   ],
   "source": [
    "print('Accuracy: %.4f' % accuracy_score(prediction, correct_answers))"
   ]
  },
  {
   "cell_type": "markdown",
   "id": "a83f68cf",
   "metadata": {},
   "source": [
    "Accuracy: 0.5000 результат ни туда ни сюда, поэтому сейчас предложу варианты, как можно улучшить код:\n",
    "    1) Увеличить выборку конечно же. Это даст нам больше контекстов и слов, которые могут встречаться только в положительных и не встречаются в отрицательных.\n",
    "    2) Также можно попробовать учитывать n-gramm (биграммы) вместо слов, возможно это повысит точность. "
   ]
  },
  {
   "cell_type": "markdown",
   "id": "4fb9dbde",
   "metadata": {},
   "source": [
    "1) Способ"
   ]
  },
  {
   "cell_type": "code",
   "execution_count": 126,
   "id": "7e0f52e9",
   "metadata": {},
   "outputs": [],
   "source": [
    "posit_reviews = get_reviews('https://steamcommunity.com/app/203140/positivereviews/?filterLanguage=english&p=1&browsefilter=toprated.html', 70)"
   ]
  },
  {
   "cell_type": "code",
   "execution_count": 132,
   "id": "00be8ec0",
   "metadata": {},
   "outputs": [],
   "source": [
    "negat_reviews = get_reviews('https://steamcommunity.com/app/203140/negativereviews/?filterLanguage=english&p=1&browsefilter=toprated.html', 70)"
   ]
  },
  {
   "cell_type": "code",
   "execution_count": 133,
   "id": "2de9bdc2",
   "metadata": {},
   "outputs": [],
   "source": [
    "test_2 = posit_reviews[0:10] + negat_reviews[0:10]\n",
    "posit_reviews = posit_reviews[-60:]\n",
    "negat_reviews = negat_reviews[-60:]"
   ]
  },
  {
   "cell_type": "code",
   "execution_count": 134,
   "id": "9819af9e",
   "metadata": {},
   "outputs": [],
   "source": [
    "positive_freqlist_unique, negative_freqlist_unique = prepare_freqlists(posit_reviews, negat_reviews)"
   ]
  },
  {
   "cell_type": "code",
   "execution_count": 135,
   "id": "198638a8",
   "metadata": {},
   "outputs": [
    {
     "name": "stdout",
     "output_type": "stream",
     "text": [
      "Accuracy: 0.5500\n"
     ]
    }
   ],
   "source": [
    "prediction = simple_sentiment_analysis(positive_freqlist_unique, negative_freqlist_unique, test_2)\n",
    "print(\"Accuracy: %.4f\" % accuracy_score(prediction, correct_answers))"
   ]
  },
  {
   "cell_type": "markdown",
   "id": "61067182",
   "metadata": {},
   "source": [
    "Точность повысилась конечно не на много, но все же! Если брать выборку по 300 примеров (а не как я на 30 больше чем в первом случае) на каждый тип отзывов, то думаю точность повыситься в разы"
   ]
  },
  {
   "cell_type": "markdown",
   "id": "b07b1363",
   "metadata": {},
   "source": [
    "2) Способ"
   ]
  },
  {
   "cell_type": "code",
   "execution_count": 137,
   "id": "7a5c3bab",
   "metadata": {},
   "outputs": [],
   "source": [
    "def collect_freqlist(reviews):\n",
    "    freqlist = Counter()\n",
    "    for review in reviews:\n",
    "        lemmatized = lemmatize_text(review)\n",
    "        for token in lemmatized:\n",
    "            freqlist[token] += 1\n",
    "        n_grams = ngrams(lemmatized, 2)\n",
    "        n_grams = [' '.join(grams) for grams in n_grams]\n",
    "        for n_gram in n_grams:\n",
    "            freqlist[n_gram] += 1\n",
    "    return freqlist"
   ]
  },
  {
   "cell_type": "code",
   "execution_count": 138,
   "id": "a036efd9",
   "metadata": {},
   "outputs": [],
   "source": [
    "positive_freqlist_unique, negative_freqlist_unique = prepare_freqlists(posit_reviews, negat_reviews)"
   ]
  },
  {
   "cell_type": "code",
   "execution_count": 139,
   "id": "aba3f0b3",
   "metadata": {},
   "outputs": [
    {
     "name": "stdout",
     "output_type": "stream",
     "text": [
      "Accuracy: 0.5500\n"
     ]
    }
   ],
   "source": [
    "prediction = simple_sentiment_analysis(positive_freqlist_unique, negative_freqlist_unique, test_2)\n",
    "print(\"Accuracy: %.4f\" % accuracy_score(prediction, correct_answers))"
   ]
  },
  {
   "cell_type": "markdown",
   "id": "312e7cee",
   "metadata": {},
   "source": [
    "Точность также по сравнению с основной работой повысилась, но осталось такой же как в способе с увеличением выборки."
   ]
  }
 ],
 "metadata": {
  "kernelspec": {
   "display_name": "Python 3 (ipykernel)",
   "language": "python",
   "name": "python3"
  },
  "language_info": {
   "codemirror_mode": {
    "name": "ipython",
    "version": 3
   },
   "file_extension": ".py",
   "mimetype": "text/x-python",
   "name": "python",
   "nbconvert_exporter": "python",
   "pygments_lexer": "ipython3",
   "version": "3.11.1"
  }
 },
 "nbformat": 4,
 "nbformat_minor": 5
}
